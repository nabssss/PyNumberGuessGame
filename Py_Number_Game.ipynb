{
  "nbformat": 4,
  "nbformat_minor": 0,
  "metadata": {
    "colab": {
      "name": "Py Number Game",
      "provenance": [],
      "authorship_tag": "ABX9TyPBA6b3Nu7Sp3fhntET8511",
      "include_colab_link": true
    },
    "kernelspec": {
      "name": "python3",
      "display_name": "Python 3"
    }
  },
  "cells": [
    {
      "cell_type": "markdown",
      "metadata": {
        "id": "view-in-github",
        "colab_type": "text"
      },
      "source": [
        "<a href=\"https://colab.research.google.com/github/nabssss/PyNumberGuessGame/blob/master/Py_Number_Game.ipynb\" target=\"_parent\"><img src=\"https://colab.research.google.com/assets/colab-badge.svg\" alt=\"Open In Colab\"/></a>"
      ]
    },
    {
      "cell_type": "markdown",
      "metadata": {
        "id": "QiA_l1ziYuAX",
        "colab_type": "text"
      },
      "source": [
        "**Write programme where the computer randomly generates a number between 0 and 20. The user needs to guess what the number is. If the user guesses wrong, tell them their guess is either too high,or too low.This will get you started with the random library if you haven't already used it**"
      ]
    },
    {
      "cell_type": "code",
      "metadata": {
        "id": "pkkff7dcYnog",
        "colab_type": "code",
        "colab": {
          "base_uri": "https://localhost:8080/",
          "height": 276
        },
        "outputId": "39b82a14-7a20-44af-84da-2b4373928dcf"
      },
      "source": [
        "print(\"---Number Guess Game Between 0-20---\")\n",
        "import random\n",
        "start=0\n",
        "end=20\n",
        "computerNumber=random.randint(0,21)\n",
        "while(True):\n",
        "    userNumber=int(input(\"Enter your Number: \"))\n",
        "    if(computerNumber == userNumber):\n",
        "        print(\"Your Guess is correct!!!\")\n",
        "        break\n",
        "    elif(computerNumber > userNumber):\n",
        "        end=computerNumber\n",
        "        midnumber=(start+end)/2\n",
        "        print(midnumber)\n",
        "        if(midnumber > userNumber):\n",
        "            print(\"Your Number is Low\")\n",
        "        else:\n",
        "            print(\"Too Low\")\n",
        "    elif(computerNumber < userNumber):\n",
        "        start=computerNumber\n",
        "        midnumber=(start+end)/2\n",
        "        print(midnumber)\n",
        "        if(midnumber < userNumber):\n",
        "            print(\"Your Number is High\")\n",
        "        else:\n",
        "            print(\"Too HIGH\")\n",
        "    else:\n",
        "        print(\"Not a valid Input\")"
      ],
      "execution_count": 0,
      "outputs": [
        {
          "output_type": "stream",
          "text": [
            "---Number Guess Game Between 0-20---\n",
            "Enter your Number: 15\n",
            "11.0\n",
            "Your Number is High\n",
            "Enter your Number: 11\n",
            "11.0\n",
            "Too HIGH\n",
            "Enter your Number: 14\n",
            "11.0\n",
            "Your Number is High\n",
            "Enter your Number: 1\n",
            "2.0\n",
            "Your Number is Low\n"
          ],
          "name": "stdout"
        }
      ]
    }
  ]
}